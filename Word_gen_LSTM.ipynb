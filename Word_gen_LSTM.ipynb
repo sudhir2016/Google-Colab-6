{
  "nbformat": 4,
  "nbformat_minor": 0,
  "metadata": {
    "colab": {
      "name": "Word_gen_LSTM.ipynb",
      "provenance": [],
      "collapsed_sections": [],
      "authorship_tag": "ABX9TyNll5LhhlYwJFY542BMXXJF",
      "include_colab_link": true
    },
    "kernelspec": {
      "name": "python3",
      "display_name": "Python 3"
    },
    "accelerator": "GPU"
  },
  "cells": [
    {
      "cell_type": "markdown",
      "metadata": {
        "id": "view-in-github",
        "colab_type": "text"
      },
      "source": [
        "<a href=\"https://colab.research.google.com/github/sudhir2016/Google-Colab-6/blob/master/Word_gen_LSTM.ipynb\" target=\"_parent\"><img src=\"https://colab.research.google.com/assets/colab-badge.svg\" alt=\"Open In Colab\"/></a>"
      ]
    },
    {
      "cell_type": "markdown",
      "metadata": {
        "id": "1vftLtfbI4Ju",
        "colab_type": "text"
      },
      "source": [
        "This is a simple example of LSTM for text generation."
      ]
    },
    {
      "cell_type": "markdown",
      "metadata": {
        "id": "a1eBvWbQJRsM",
        "colab_type": "text"
      },
      "source": [
        "Load TensorFlow, Keras and Python libraries."
      ]
    },
    {
      "cell_type": "code",
      "metadata": {
        "id": "WUQvcE3UIzi8",
        "colab_type": "code",
        "colab": {}
      },
      "source": [
        "import numpy as np"
      ],
      "execution_count": 0,
      "outputs": []
    },
    {
      "cell_type": "code",
      "metadata": {
        "id": "YNmUQoxIL7Ac",
        "colab_type": "code",
        "colab": {}
      },
      "source": [
        "import tensorflow as tf"
      ],
      "execution_count": 0,
      "outputs": []
    },
    {
      "cell_type": "code",
      "metadata": {
        "id": "s8OSGklDULDo",
        "colab_type": "code",
        "colab": {}
      },
      "source": [
        "from tensorflow import keras"
      ],
      "execution_count": 0,
      "outputs": []
    },
    {
      "cell_type": "code",
      "metadata": {
        "id": "TwpGsY-fZf-H",
        "colab_type": "code",
        "colab": {}
      },
      "source": [
        "from keras.utils import np_utils"
      ],
      "execution_count": 0,
      "outputs": []
    },
    {
      "cell_type": "code",
      "metadata": {
        "id": "A49sPL-N-O6r",
        "colab_type": "code",
        "colab": {}
      },
      "source": [
        "import string"
      ],
      "execution_count": 0,
      "outputs": []
    },
    {
      "cell_type": "markdown",
      "metadata": {
        "id": "yEFUEh1rJskl",
        "colab_type": "text"
      },
      "source": [
        "Read Alice in Wonderland as txt file."
      ]
    },
    {
      "cell_type": "code",
      "metadata": {
        "id": "Ew_RZzOevjiV",
        "colab_type": "code",
        "colab": {}
      },
      "source": [
        "text=open('/content/sample_data/Alice.txt','r',encoding='utf-8').read()"
      ],
      "execution_count": 0,
      "outputs": []
    },
    {
      "cell_type": "markdown",
      "metadata": {
        "id": "O7a8oT93J63o",
        "colab_type": "text"
      },
      "source": [
        "Convert to lower case."
      ]
    },
    {
      "cell_type": "code",
      "metadata": {
        "id": "znnA9Hy0yety",
        "colab_type": "code",
        "colab": {}
      },
      "source": [
        "text=text.lower()"
      ],
      "execution_count": 0,
      "outputs": []
    },
    {
      "cell_type": "markdown",
      "metadata": {
        "id": "vFvmL6mINfKK",
        "colab_type": "text"
      },
      "source": [
        "Remove punctuations."
      ]
    },
    {
      "cell_type": "code",
      "metadata": {
        "id": "z00N_k3L_cSJ",
        "colab_type": "code",
        "colab": {}
      },
      "source": [
        "trans=str.maketrans('','',string.punctuation)"
      ],
      "execution_count": 0,
      "outputs": []
    },
    {
      "cell_type": "code",
      "metadata": {
        "id": "8IcbXUQp_0sN",
        "colab_type": "code",
        "colab": {}
      },
      "source": [
        "text=text.translate(trans)"
      ],
      "execution_count": 0,
      "outputs": []
    },
    {
      "cell_type": "markdown",
      "metadata": {
        "id": "4QisGC2FNrCp",
        "colab_type": "text"
      },
      "source": [
        "Prepare sorted list of unique characters."
      ]
    },
    {
      "cell_type": "code",
      "metadata": {
        "id": "MlPt5PFlN2Qc",
        "colab_type": "code",
        "colab": {}
      },
      "source": [
        "char=set(text)"
      ],
      "execution_count": 0,
      "outputs": []
    },
    {
      "cell_type": "code",
      "metadata": {
        "id": "A_MoPeBgOE4F",
        "colab_type": "code",
        "colab": {}
      },
      "source": [
        "char=sorted(list(char))"
      ],
      "execution_count": 0,
      "outputs": []
    },
    {
      "cell_type": "code",
      "metadata": {
        "id": "Ca0FqTZwUIlt",
        "colab_type": "code",
        "colab": {}
      },
      "source": [
        "print(char)"
      ],
      "execution_count": 0,
      "outputs": []
    },
    {
      "cell_type": "markdown",
      "metadata": {
        "id": "Bii8y1BcKS9r",
        "colab_type": "text"
      },
      "source": [
        "Create character to integer dictionary."
      ]
    },
    {
      "cell_type": "code",
      "metadata": {
        "id": "eN-w8EyEOpnR",
        "colab_type": "code",
        "colab": {}
      },
      "source": [
        "x1=enumerate(char)"
      ],
      "execution_count": 0,
      "outputs": []
    },
    {
      "cell_type": "code",
      "metadata": {
        "id": "hLzGl8ibO6jU",
        "colab_type": "code",
        "colab": {}
      },
      "source": [
        "char_int = dict((d, s) for s, d in x1)"
      ],
      "execution_count": 0,
      "outputs": []
    },
    {
      "cell_type": "code",
      "metadata": {
        "id": "kvRVElnCPHsT",
        "colab_type": "code",
        "colab": {}
      },
      "source": [
        "print(char_int)"
      ],
      "execution_count": 0,
      "outputs": []
    },
    {
      "cell_type": "markdown",
      "metadata": {
        "id": "VGhBXBh-KkWu",
        "colab_type": "text"
      },
      "source": [
        "Create integer to character dictionary."
      ]
    },
    {
      "cell_type": "code",
      "metadata": {
        "id": "RsfteO48bQBE",
        "colab_type": "code",
        "colab": {}
      },
      "source": [
        "x1=enumerate(char)"
      ],
      "execution_count": 0,
      "outputs": []
    },
    {
      "cell_type": "code",
      "metadata": {
        "id": "iMEPvQUhb6Yh",
        "colab_type": "code",
        "colab": {}
      },
      "source": [
        "int_char= dict((d,s) for d,s in x1)"
      ],
      "execution_count": 0,
      "outputs": []
    },
    {
      "cell_type": "code",
      "metadata": {
        "id": "f_6V1hzr0KOH",
        "colab_type": "code",
        "colab": {}
      },
      "source": [
        "print(int_char)"
      ],
      "execution_count": 0,
      "outputs": []
    },
    {
      "cell_type": "markdown",
      "metadata": {
        "id": "eGTuW4Y0KzTk",
        "colab_type": "text"
      },
      "source": [
        "Total number of characters."
      ]
    },
    {
      "cell_type": "code",
      "metadata": {
        "id": "zTIqJQm4JZGP",
        "colab_type": "code",
        "colab": {}
      },
      "source": [
        "n_char=len(text)\n",
        "print(n_char)"
      ],
      "execution_count": 0,
      "outputs": []
    },
    {
      "cell_type": "markdown",
      "metadata": {
        "id": "FanzX1pgN3Cj",
        "colab_type": "text"
      },
      "source": [
        "Number of unique characters."
      ]
    },
    {
      "cell_type": "code",
      "metadata": {
        "id": "pccJ7WzAJgFz",
        "colab_type": "code",
        "colab": {}
      },
      "source": [
        "n_vocab=len(char)\n",
        "print(n_vocab)"
      ],
      "execution_count": 0,
      "outputs": []
    },
    {
      "cell_type": "markdown",
      "metadata": {
        "id": "jeBus1rALZPJ",
        "colab_type": "text"
      },
      "source": [
        "Prepare X and Y datasets based on a sequence of 100."
      ]
    },
    {
      "cell_type": "code",
      "metadata": {
        "id": "9Ab54LYxKRUY",
        "colab_type": "code",
        "colab": {}
      },
      "source": [
        "seq_length = 100\n",
        "dataX = []\n",
        "dataY = []\n",
        "for i in range(0, n_char - seq_length, 1):\n",
        "\tseq_in = text[i:i + seq_length]\n",
        "\tseq_out = text[i + seq_length]\n",
        "\tdataX.append([char_int[c] for c in seq_in])\n",
        "\tdataY.append(char_int[seq_out])\n",
        "n_patterns = len(dataX)\n",
        "print (n_patterns)"
      ],
      "execution_count": 0,
      "outputs": []
    },
    {
      "cell_type": "markdown",
      "metadata": {
        "id": "sN16NivpL1xm",
        "colab_type": "text"
      },
      "source": [
        "Preprocess X and Y datasets as per LSTM requirement."
      ]
    },
    {
      "cell_type": "code",
      "metadata": {
        "id": "DkVphQTed4VC",
        "colab_type": "code",
        "colab": {}
      },
      "source": [
        "# reshape X to be [samples, time steps, features]\n",
        "X = np.reshape(dataX, (n_patterns, seq_length, 1))\n",
        "# normalize\n",
        "X = X / float(n_vocab)\n",
        "# one hot encode the output variable\n",
        "y = np_utils.to_categorical(dataY)"
      ],
      "execution_count": 0,
      "outputs": []
    },
    {
      "cell_type": "markdown",
      "metadata": {
        "id": "N0K1chGvMOAI",
        "colab_type": "text"
      },
      "source": [
        "Set up LSTM model."
      ]
    },
    {
      "cell_type": "code",
      "metadata": {
        "id": "2NP0LeZxmKyu",
        "colab_type": "code",
        "colab": {}
      },
      "source": [
        "l1= keras.layers.LSTM(units=256,input_shape=(X.shape[1],X.shape[2]))"
      ],
      "execution_count": 0,
      "outputs": []
    },
    {
      "cell_type": "code",
      "metadata": {
        "id": "khhQu0I_5I1K",
        "colab_type": "code",
        "colab": {}
      },
      "source": [
        "l2=keras.layers.Dropout(0.2)"
      ],
      "execution_count": 0,
      "outputs": []
    },
    {
      "cell_type": "code",
      "metadata": {
        "id": "Ngu2NLsURcF_",
        "colab_type": "code",
        "colab": {}
      },
      "source": [
        "l3=keras.layers.Dense(y.shape[1],activation='softmax')"
      ],
      "execution_count": 0,
      "outputs": []
    },
    {
      "cell_type": "code",
      "metadata": {
        "id": "A8qa8MKcaus-",
        "colab_type": "code",
        "colab": {}
      },
      "source": [
        "model=keras.models.Sequential([l1,l2,l3])"
      ],
      "execution_count": 0,
      "outputs": []
    },
    {
      "cell_type": "code",
      "metadata": {
        "id": "0YuRLKVJbZzW",
        "colab_type": "code",
        "colab": {}
      },
      "source": [
        "model.compile(optimizer='adam',loss='categorical_crossentropy')"
      ],
      "execution_count": 0,
      "outputs": []
    },
    {
      "cell_type": "code",
      "metadata": {
        "id": "3acAMFkPfOO4",
        "colab_type": "code",
        "colab": {}
      },
      "source": [
        "model.summary()"
      ],
      "execution_count": 0,
      "outputs": []
    },
    {
      "cell_type": "markdown",
      "metadata": {
        "id": "8piHwfKUMUCj",
        "colab_type": "text"
      },
      "source": [
        "Train model."
      ]
    },
    {
      "cell_type": "code",
      "metadata": {
        "id": "vqbdsVdwdFcP",
        "colab_type": "code",
        "colab": {}
      },
      "source": [
        "model.fit(X,y,epochs=20,batch_size=128)"
      ],
      "execution_count": 0,
      "outputs": []
    },
    {
      "cell_type": "markdown",
      "metadata": {
        "id": "6ufT68hcMap8",
        "colab_type": "text"
      },
      "source": [
        "Generate seed text."
      ]
    },
    {
      "cell_type": "code",
      "metadata": {
        "id": "t4N1LshVXuKb",
        "colab_type": "code",
        "colab": {}
      },
      "source": [
        "text1='alice was beginning to get very tired of sitting by her sister on the bank  and of having nothing to'"
      ],
      "execution_count": 0,
      "outputs": []
    },
    {
      "cell_type": "markdown",
      "metadata": {
        "id": "XPHPt5uPMiQH",
        "colab_type": "text"
      },
      "source": [
        "Convert seed text to integer and process for feeding to model."
      ]
    },
    {
      "cell_type": "code",
      "metadata": {
        "id": "4N53031Z-JO6",
        "colab_type": "code",
        "colab": {}
      },
      "source": [
        "pattern=[]"
      ],
      "execution_count": 0,
      "outputs": []
    },
    {
      "cell_type": "code",
      "metadata": {
        "id": "VRHayYp0SfG0",
        "colab_type": "code",
        "colab": {}
      },
      "source": [
        "pattern.append([char_int[c] for c in text1])"
      ],
      "execution_count": 0,
      "outputs": []
    },
    {
      "cell_type": "code",
      "metadata": {
        "id": "3KG9-yG49nEv",
        "colab_type": "code",
        "colab": {}
      },
      "source": [
        "import itertools\n",
        "pattern = list(itertools.chain(*pattern))"
      ],
      "execution_count": 0,
      "outputs": []
    },
    {
      "cell_type": "code",
      "metadata": {
        "id": "JMHGNDcWv1Vk",
        "colab_type": "code",
        "colab": {}
      },
      "source": [
        "pattern=np.asarray(pattern)"
      ],
      "execution_count": 0,
      "outputs": []
    },
    {
      "cell_type": "code",
      "metadata": {
        "id": "QzCDb_2bwTo7",
        "colab_type": "code",
        "colab": {}
      },
      "source": [
        "pattern=list(pattern)"
      ],
      "execution_count": 0,
      "outputs": []
    },
    {
      "cell_type": "markdown",
      "metadata": {
        "id": "wVb_gi0SNBAY",
        "colab_type": "text"
      },
      "source": [
        "Feed seed to model and generate output text of 500 characters."
      ]
    },
    {
      "cell_type": "code",
      "metadata": {
        "id": "UARl_Bp93abD",
        "colab_type": "code",
        "colab": {}
      },
      "source": [
        "out=[]"
      ],
      "execution_count": 0,
      "outputs": []
    },
    {
      "cell_type": "code",
      "metadata": {
        "colab_type": "code",
        "id": "RvBGfTRy9er4",
        "colab": {}
      },
      "source": [
        "for i in range (500):\n",
        "  x=np.reshape(pattern,(1,100,1))\n",
        "  x=x/float(n_vocab)\n",
        "  p=model.predict(x)\n",
        "  a=np.argmax(p)\n",
        "  r=int_char[a]\n",
        "  pattern.append(a)\n",
        "  pattern = pattern[1:len(pattern)]\n",
        "  out.append(r)\n",
        "\n"
      ],
      "execution_count": 0,
      "outputs": []
    },
    {
      "cell_type": "code",
      "metadata": {
        "id": "KHw12zhVQk8I",
        "colab_type": "code",
        "colab": {}
      },
      "source": [
        "print(*out,sep='')"
      ],
      "execution_count": 0,
      "outputs": []
    }
  ]
}